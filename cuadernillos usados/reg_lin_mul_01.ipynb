{
  "cells": [
    {
      "cell_type": "markdown",
      "metadata": {
        "id": "tfwOfkjclHQx"
      },
      "source": [
        "# Ejercicio de programación Regresión Lineal Multiple"
      ]
    },
    {
      "cell_type": "code",
      "execution_count": null,
      "metadata": {
        "id": "f0WGMMljlHQz"
      },
      "outputs": [],
      "source": [
        "\n",
        "import os\n",
        "\n",
        "import numpy as np\n",
        "\n",
        "from matplotlib import pyplot\n",
        "from mpl_toolkits.mplot3d import Axes3D\n",
        "\n",
        "%matplotlib inline"
      ]
    },
    {
      "cell_type": "code",
      "source": [
        "from google.colab import drive\n",
        "drive.mount(\"/content/gdrive\")"
      ],
      "metadata": {
        "id": "LhERtghFlVGr",
        "colab": {
          "base_uri": "https://localhost:8080/"
        },
        "outputId": "6560a035-bd9a-4326-94f0-41c4ab8d3dd0"
      },
      "execution_count": null,
      "outputs": [
        {
          "output_type": "stream",
          "name": "stdout",
          "text": [
            "Drive already mounted at /content/gdrive; to attempt to forcibly remount, call drive.mount(\"/content/gdrive\", force_remount=True).\n"
          ]
        }
      ]
    },
    {
      "cell_type": "code",
      "execution_count": null,
      "metadata": {
        "id": "6BP5grkxlHQ0",
        "colab": {
          "base_uri": "https://localhost:8080/"
        },
        "outputId": "bafe6126-70d6-4764-d562-fd9806bc9824"
      },
      "outputs": [
        {
          "output_type": "stream",
          "name": "stdout",
          "text": [
            "Tamaño de etiquetas: 11934\n",
            "  X[:,0] X[:, 1] X[:, 2] X[:, 3] X[:, 4] X[:, 5] X[:, 6] X[:, 7] X[:, 8] X[:, 9]X[:, 10]X[:, 11]X[:, 12]X[:, 13]X[:, 14]X[:, 15]X[:, 16]       y\n",
            "------------------------\n",
            "       1       1       6       1       7       0\n",
            "       1       1       7       1      11       0\n",
            "       1       1       8       1      13       0\n",
            "       2       1       9       1      18       0\n",
            "       2       1      11       1      26       1\n",
            "       3       1      13       1      36       1\n",
            "       3       1      16       1      46       1\n",
            "       4       1      19       1      62       1\n",
            "       4       1      23       1      93       2\n",
            "       1       1       6       1       4       0\n",
            "       1       1       7       1      13       0\n",
            "       1       1       8       1      13       0\n",
            "       2       1       9       1      18       0\n",
            "       2       1      11       1      26       1\n",
            "       3       1      13       1      36       1\n",
            "       3       1      16       1      46       1\n",
            "       4       1      19       1      62       1\n",
            "       4       1      23       1      92       2\n",
            "       1       1       6       1       0       0\n",
            "       1       1       7       1      13       0\n",
            "       1       1       8       1      13       0\n",
            "       2       1       9       1      18       0\n",
            "       2       1      11       1      26       1\n",
            "       3       1      13       1      36       1\n",
            "       3       1      16       1      46       1\n",
            "       4       1      19       1      62       1\n",
            "       4       1      23       1      92       2\n",
            "       1       1       6       1       0       0\n",
            "       1       1       7       1      15       0\n",
            "       1       1       8       1      13       0\n",
            "       2       1       9       1      18       0\n",
            "       2       1      11       1      26       1\n",
            "       2       1      13       1      36       1\n",
            "       3       1      16       1      46       1\n",
            "       4       1      19       1      62       1\n",
            "       4       1      23       1      92       2\n",
            "       1       1       6       1       0       0\n",
            "       1       1       7       1      17       0\n",
            "       1       1       8       1      13       0\n",
            "       2       1       9       1      18       0\n",
            "       2       1      11       1      26       1\n",
            "       2       1      13       1      35       1\n",
            "       3       1      16       1      46       1\n",
            "       4       1      19       1      62       1\n",
            "       4       1      23       1      92       2\n",
            "       1       1       6       1       0       0\n",
            "       1       1       7       1      16       0\n",
            "       1       1       8       1      13       0\n",
            "       2       1       9       1      18       0\n",
            "       2       1      11       1      26       1\n",
            "       2       1      13       1      35       1\n",
            "       3       1      16       1      45       1\n",
            "       4       1      19       1      62       1\n",
            "       4       1      23       1      92       2\n",
            "       1       1       7       1       0       0\n",
            "       1       1       7       1      17       0\n",
            "       1       1       8       1      13       0\n",
            "       2       1       9       1      18       0\n",
            "       2       1      11       1      26       1\n",
            "       2       1      13       1      35       1\n",
            "       3       1      16       1      45       1\n",
            "       4       1      19       1      62       1\n",
            "       4       1      23       1      92       2\n",
            "       1       1       7       1       0       0\n",
            "       1       1       7       1      19       0\n",
            "       1       1       8       1      13       0\n",
            "       2       1       9       1      18       0\n",
            "       2       1      11       1      26       1\n",
            "       2       1      13       1      35       1\n",
            "       3       1      16       1      45       1\n",
            "       4       1      18       1      62       1\n",
            "       4       1      23       1      92       2\n",
            "       1       1       7       1       0       0\n",
            "       1       1       7       1      19       0\n",
            "       1       1       8       1      13       0\n",
            "       2       1       9       1      18       0\n",
            "       2       1      11       1      26       1\n",
            "       2       1      13       1      35       1\n",
            "       3       1      16       1      45       1\n",
            "       4       1      18       1      62       1\n",
            "       4       1      23       1      92       2\n",
            "       1       1       7       1       0       0\n",
            "       1       1       7       1      20       0\n",
            "       1       1       8       1      13       0\n",
            "       2       1       9       1      18       0\n",
            "       2       1      11       1      26       1\n",
            "       2       1      13       1      35       1\n",
            "       3       1      16       1      45       1\n",
            "       4       1      18       1      62       1\n",
            "       4       1      23       1      92       2\n",
            "       1       1       7       1       0       0\n",
            "       1       1       7       1      20       0\n",
            "       1       1       8       1      13       0\n",
            "       2       1       9       1      18       0\n",
            "       2       1      11       1      26       1\n",
            "       2       1      13       1      35       1\n",
            "       3       1      16       1      45       1\n",
            "       4       1      18       1      61       1\n",
            "       4       1      23       1      91       2\n",
            "       1       1       7       1       5       0\n"
          ]
        }
      ],
      "source": [
        "# Cargar datos\n",
        "data = np.loadtxt('/content/gdrive/MyDrive/SIS420/midataset/Maintenance Naval Vessel.csv', delimiter=',')\n",
        "X = data[:, :7]  # Selecciona las primeras 17 columnas como características\n",
        "y = data[:, 7]   # La última columna como etiqueta\n",
        "m = y.size\n",
        "print(\"Tamaño de etiquetas:\", m)\n",
        "\n",
        "# Imprimir algunos puntos de datos\n",
        "print('{:>8s}{:>8s}{:>8s}{:>8s}{:>8s}{:>8s}{:>8s}{:>8s}{:>8s}{:>8s}{:>8s}{:>8s}{:>8s}{:>8s}{:>8s}{:>8s}{:>8s}{:>8s}'.format('X[:,0]','X[:, 1]', 'X[:, 2]','X[:, 3]','X[:, 4]','X[:, 5]','X[:, 6]','X[:, 7]','X[:, 8]','X[:, 9]','X[:, 10]','X[:, 11]','X[:, 12]','X[:, 13]','X[:, 14]','X[:, 15]','X[:, 16]', 'y'))\n",
        "print('-'*24)\n",
        "for i in range(100):\n",
        "    print('{:8.0f}{:8.0f}{:8.0f}{:8.0f}{:8.0f}{:8.0f}'.format(X[i, 0], X[i, 1],X[i, 2],X[i, 3],X[i, 4],X[i, 5],X[i, 6], y[i]))\n"
      ]
    },
    {
      "cell_type": "code",
      "execution_count": null,
      "metadata": {
        "id": "7xFD8H3WlHQ1"
      },
      "outputs": [],
      "source": [
        "def featureNormalize(X):\n",
        "    X_norm = X.copy()\n",
        "    mu = np.zeros(X.shape[1])\n",
        "    sigma = np.zeros(X.shape[1])\n",
        "\n",
        "    mu = np.mean(X, axis=0)\n",
        "    sigma = np.std(X, axis=0)\n",
        "\n",
        "    zero_std_indices = np.where(sigma == 0)[0]\n",
        "    X_norm = np.delete(X_norm, zero_std_indices, axis=1)\n",
        "    mu = np.delete(mu, zero_std_indices)\n",
        "    sigma = np.delete(sigma, zero_std_indices)\n",
        "\n",
        "    X_norm = (X_norm - mu) / sigma\n",
        "\n",
        "    return X_norm, mu, sigma\n"
      ]
    },
    {
      "cell_type": "markdown",
      "metadata": {
        "id": "it9bMYuLlHQ2"
      },
      "source": [
        "Despues de `featureNormalize` la funcion es provada, se añade el temino de interseccion a `X_norm`:"
      ]
    },
    {
      "cell_type": "code",
      "execution_count": null,
      "metadata": {
        "id": "nNaGVxgolHQ2"
      },
      "outputs": [],
      "source": [
        "# Añade el termino de interseccion a X\n",
        "# (Columna de unos para X0)\n",
        "X = np.concatenate([np.ones((m, 1)), X_norm], axis=1)"
      ]
    },
    {
      "cell_type": "code",
      "execution_count": null,
      "metadata": {
        "id": "nbUVohnhlHQ3",
        "colab": {
          "base_uri": "https://localhost:8080/"
        },
        "outputId": "8234092c-9556-41ec-f8a7-87fa8b7e08cb"
      },
      "outputs": [
        {
          "output_type": "stream",
          "name": "stdout",
          "text": [
            "[[ 1.         -1.15878524  1.         ... -1.02569556 -1.14460218\n",
            "  -1.69841555]\n",
            " [ 1.         -0.94214038  1.         ... -0.88955153 -0.74035095\n",
            "  -1.69841555]\n",
            " [ 1.         -0.88867058  1.         ... -0.7954736  -0.79556576\n",
            "  -1.69841555]\n",
            " ...\n",
            " [ 1.          0.57990501  1.         ...  0.32750183  0.33830963\n",
            "   1.69841555]\n",
            " [ 1.          1.14410355  1.         ...  0.94514219  0.95947615\n",
            "   1.69841555]\n",
            " [ 1.          2.00791732  1.         ...  2.02883787  2.05391239\n",
            "   1.69841555]]\n"
          ]
        }
      ],
      "source": [
        "print(X)"
      ]
    },
    {
      "cell_type": "code",
      "execution_count": null,
      "metadata": {
        "id": "EQCMN7KqlHQ3"
      },
      "outputs": [],
      "source": [
        "def computeCostMulti(X, y, theta):\n",
        "    # Inicializa algunos valores utiles\n",
        "    m = y.shape[0] # numero de ejemplos de entrenamiento\n",
        "\n",
        "    J = 0\n",
        "\n",
        "    h = np.dot(X, theta)\n",
        "\n",
        "    J = (1/(2 * m)) * np.sum(np.square(np.dot(X, theta) - y))\n",
        "\n",
        "    return J\n"
      ]
    },
    {
      "cell_type": "code",
      "execution_count": null,
      "metadata": {
        "id": "Vdy_aQUklHQ4"
      },
      "outputs": [],
      "source": [
        "def gradientDescentMulti(X, y, theta, alpha, num_iters):\n",
        "\n",
        "    # Inicializa algunos valores\n",
        "    m = y.shape[0] # numero de ejemplos de entrenamiento\n",
        "\n",
        "    # realiza una copia de theta, el cual será acutalizada por el descenso por el gradiente\n",
        "\n",
        "    theta = theta.copy()\n",
        "\n",
        "    J_history = []\n",
        "\n",
        "    for i in range(num_iters):\n",
        "        theta = theta - (alpha / m) * (np.dot(X, theta) - y).dot(X)\n",
        "        J_history.append(computeCostMulti(X, y, theta))\n",
        "\n",
        "    return theta, J_history"
      ]
    },
    {
      "cell_type": "code",
      "execution_count": null,
      "metadata": {
        "id": "sId0DiH9lHQ4"
      },
      "outputs": [],
      "source": [
        "# Elegir algun valor para alpha (probar varias alternativas)\n",
        "alpha = 0.001 # alpha = 0.003\n",
        "num_iters = 10000\n",
        "\n",
        "# inicializa theta y ejecuta el descenso por el gradiente\n",
        "theta = np.zeros(17)\n",
        "theta, J_history = gradientDescentMulti(X, y, theta, alpha, num_iters)\n",
        "\n",
        "# Grafica la convergencia del costo\n",
        "pyplot.plot(np.arange(len(J_history)), J_history, lw=2)\n",
        "pyplot.xlabel('Numero de iteraciones')\n",
        "pyplot.ylabel('Costo J')\n",
        "\n",
        "# Muestra los resultados del descenso por el gradiente\n",
        "print('theta calculado por el descenso por el gradiente: {:s}'.format(str(theta)))\n",
        "\n",
        "# Estimar el precio para una casa de 1650 sq-ft, con 3 dormitorios\n",
        "X_array = [1.138, 3, 289.964, 1349.489, 6677.38, 7.584, 7.584, 464.006, 288, 550.563, 1.096, 0.998, 5.947, 1.019, 7.137, 0.082,0.95]\n",
        "X_array[1:17] = (X_array[1:17] - mu) / sigma\n",
        "price = np.dot(X_array, theta)\n",
        "# Se debe cambiar esto\n",
        "\n",
        "print('El precio predecido para una casa de 1650 sq-ft y 3 dormitorios (usando el descenso por el gradiente): ${:.4f}'.format(price))"
      ]
    },
    {
      "cell_type": "code",
      "execution_count": null,
      "metadata": {
        "id": "y0aZhWEqlHQ4"
      },
      "outputs": [],
      "source": [
        "X_array = [1.138, 3, 1.138, 1349.489, 6677.38, 7.584, 7.584, 464.006, 288, 550.563, 1.096, 0.998, 0.975, 1.019, 7.137, 0.082, 0.95]\n",
        "X_array[1:17] = (X_array[1:17] - mu) / sigma"
      ]
    },
    {
      "cell_type": "code",
      "execution_count": null,
      "metadata": {
        "id": "KZ4G9CbJlHQ4",
        "colab": {
          "base_uri": "https://localhost:8080/"
        },
        "outputId": "a70b8b2b-9631-470d-dea9-277902efde09"
      },
      "outputs": [
        {
          "output_type": "stream",
          "name": "stdout",
          "text": [
            "El precio predecido para una casa de 1650 sq-ft y 3 dormitorios (usando el descenso por el gradiente): $1.0592\n"
          ]
        }
      ],
      "source": [
        "X_array = [1.138, 3, 1.138, 1349.489, 6677.38, 7.584, 7.584, 464.006, 288, 550.563, 1.096, 0.998, 0.975, 1.019, 7.137, 0.082, 0.95]\n",
        "X_array[1:17] = (X_array[1:17] - mu) / sigma\n",
        "price = np.dot(X_array, theta)   # Se debe cambiar esto\n",
        "\n",
        "print('El precio predecido para una casa de 1650 sq-ft y 3 dormitorios (usando el descenso por el gradiente): ${:.4f}'.format(price))"
      ]
    },
    {
      "cell_type": "code",
      "execution_count": null,
      "metadata": {
        "id": "C6j77JNmlHQ5"
      },
      "outputs": [],
      "source": [
        "# Cargar datos\n",
        "data = np.loadtxt('/content/gdrive/MyDrive/SIS420/midataset/Maintenance Naval Vessel.csv', delimiter=',')\n",
        "X = data[:, :7]\n",
        "y = data[:, 7]\n",
        "m = y.size\n",
        "X = np.concatenate([np.ones((m, 1)), X], axis=1)"
      ]
    },
    {
      "cell_type": "code",
      "execution_count": null,
      "metadata": {
        "id": "gVZdjjk9lHQ5"
      },
      "outputs": [],
      "source": [
        "def normalEqn(X, y):\n",
        "    # Inicializa el vector de parámetros theta con ceros\n",
        "    theta = np.zeros(X.shape[1])\n",
        "\n",
        "    # Calcula los parámetros theta utilizando la ecuación normal\n",
        "    theta = np.dot(np.dot(np.linalg.inv(np.dot(X.T, X)), X.T), y)\n",
        "\n",
        "    return theta\n"
      ]
    },
    {
      "cell_type": "code",
      "execution_count": null,
      "metadata": {
        "id": "Ybyw-FfolHQ5",
        "colab": {
          "base_uri": "https://localhost:8080/"
        },
        "outputId": "d646a0c9-8158-4fd4-9ac5-4f098c79eb88"
      },
      "outputs": [
        {
          "output_type": "stream",
          "name": "stdout",
          "text": [
            "Theta calculado a partir de la ecuación de la normal: [-4.99833706e+00  3.45471433e-01  9.35530824e+00 -5.19989283e-02\n",
            " -3.35833630e+00  1.42029362e-04 -1.31411436e-01 -2.11647854e-02]\n",
            "Precio predecido para una cada de superficie de 1650 sq-ft y 3 dormitorios (usando la ecuación de la normal): $3\n"
          ]
        }
      ],
      "source": [
        "# Calcula los parametros con la ecuación de la normal\n",
        "\n",
        "theta = normalEqn(X, y);\n",
        "\n",
        "# Muestra los resultados optenidos a partir de la aplicación de la ecuación de la normal\n",
        "print('Theta calculado a partir de la ecuación de la normal: {:s}'.format(str(theta)));\n",
        "\n",
        "# Estimar el precio para una casa de superficie de 1650 sq-ft y tres dormitorios\n",
        "\n",
        "X_array = [1.096, 0.998, 0.947, 1.019, 0.137, 0.082, 0.95,0.975]\n",
        "price = np.dot(X_array, theta)\n",
        "\n",
        "print('Precio predecido para una cada de superficie de 1650 sq-ft y 3 dormitorios (usando la ecuación de la normal): ${:.0f}'.format(price))\n"
      ]
    }
  ],
  "metadata": {
    "kernelspec": {
      "display_name": "Python 3",
      "language": "python",
      "name": "python3"
    },
    "language_info": {
      "codemirror_mode": {
        "name": "ipython",
        "version": 3
      },
      "file_extension": ".py",
      "mimetype": "text/x-python",
      "name": "python",
      "nbconvert_exporter": "python",
      "pygments_lexer": "ipython3",
      "version": "3.8.5"
    },
    "colab": {
      "provenance": []
    }
  },
  "nbformat": 4,
  "nbformat_minor": 0
}